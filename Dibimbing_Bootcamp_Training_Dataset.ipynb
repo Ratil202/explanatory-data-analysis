{
  "nbformat": 4,
  "nbformat_minor": 0,
  "metadata": {
    "colab": {
      "provenance": []
    },
    "kernelspec": {
      "name": "python3",
      "display_name": "Python 3"
    },
    "language_info": {
      "name": "python"
    }
  },
  "cells": [
    {
      "cell_type": "code",
      "execution_count": 1,
      "metadata": {
        "id": "B7w7Q423d1JY"
      },
      "outputs": [],
      "source": [
        "# Import library\n",
        "import pandas as pd"
      ]
    },
    {
      "cell_type": "code",
      "source": [
        "# Membaca file dalam CSV\n",
        "# Delimiter digunakan untuk memisahkan nama kolom yang ditandai dengan tanda \";\"\n",
        "data_ratil= pd.read_csv('/content/gdp_per_capita.csv', delimiter=';')"
      ],
      "metadata": {
        "id": "9T7_06pPCldo"
      },
      "execution_count": 2,
      "outputs": []
    },
    {
      "cell_type": "code",
      "source": [
        "# Menampilkan 5 baris pertama\n",
        "data_ratil.head(5)"
      ],
      "metadata": {
        "colab": {
          "base_uri": "https://localhost:8080/",
          "height": 224
        },
        "id": "GfLuvm9EeSqh",
        "outputId": "cc964051-2080-4fdd-a560-474fe613071b"
      },
      "execution_count": 3,
      "outputs": [
        {
          "output_type": "execute_result",
          "data": {
            "text/plain": [
              "        Entity Code  Year GDP per capita  \\\n",
              "0  Afghanistan  AFG  2005      9.644.081   \n",
              "1  Afghanistan  AFG  2006     10.570.966   \n",
              "2  Afghanistan  AFG  2007     12.599.967   \n",
              "3  Afghanistan  AFG  2008     13.196.074   \n",
              "4  Afghanistan  AFG  2009     15.573.207   \n",
              "\n",
              "  Value of global merchandise exports as a share of GDP  \\\n",
              "0                                            611.945      \n",
              "1                                            589.436      \n",
              "2                                            461.202      \n",
              "3                                            511.368      \n",
              "4                                            393.394      \n",
              "\n",
              "  Government expenditure (% of GDP) Trade as a Share of GDP  \\\n",
              "0                               NaN                     NaN   \n",
              "1                               NaN                     NaN   \n",
              "2                               NaN                     NaN   \n",
              "3                               NaN                     NaN   \n",
              "4                               NaN                     NaN   \n",
              "\n",
              "  Inflation, consumer prices (annual %)  \n",
              "0                            12.686.269  \n",
              "1                            67.845.964  \n",
              "2                             8.680.571  \n",
              "3                            26.418.665  \n",
              "4                            -6.811.161  "
            ],
            "text/html": [
              "\n",
              "  <div id=\"df-ffe5f165-55b2-49bc-9882-55cbbcb8bc4e\" class=\"colab-df-container\">\n",
              "    <div>\n",
              "<style scoped>\n",
              "    .dataframe tbody tr th:only-of-type {\n",
              "        vertical-align: middle;\n",
              "    }\n",
              "\n",
              "    .dataframe tbody tr th {\n",
              "        vertical-align: top;\n",
              "    }\n",
              "\n",
              "    .dataframe thead th {\n",
              "        text-align: right;\n",
              "    }\n",
              "</style>\n",
              "<table border=\"1\" class=\"dataframe\">\n",
              "  <thead>\n",
              "    <tr style=\"text-align: right;\">\n",
              "      <th></th>\n",
              "      <th>Entity</th>\n",
              "      <th>Code</th>\n",
              "      <th>Year</th>\n",
              "      <th>GDP per capita</th>\n",
              "      <th>Value of global merchandise exports as a share of GDP</th>\n",
              "      <th>Government expenditure (% of GDP)</th>\n",
              "      <th>Trade as a Share of GDP</th>\n",
              "      <th>Inflation, consumer prices (annual %)</th>\n",
              "    </tr>\n",
              "  </thead>\n",
              "  <tbody>\n",
              "    <tr>\n",
              "      <th>0</th>\n",
              "      <td>Afghanistan</td>\n",
              "      <td>AFG</td>\n",
              "      <td>2005</td>\n",
              "      <td>9.644.081</td>\n",
              "      <td>611.945</td>\n",
              "      <td>NaN</td>\n",
              "      <td>NaN</td>\n",
              "      <td>12.686.269</td>\n",
              "    </tr>\n",
              "    <tr>\n",
              "      <th>1</th>\n",
              "      <td>Afghanistan</td>\n",
              "      <td>AFG</td>\n",
              "      <td>2006</td>\n",
              "      <td>10.570.966</td>\n",
              "      <td>589.436</td>\n",
              "      <td>NaN</td>\n",
              "      <td>NaN</td>\n",
              "      <td>67.845.964</td>\n",
              "    </tr>\n",
              "    <tr>\n",
              "      <th>2</th>\n",
              "      <td>Afghanistan</td>\n",
              "      <td>AFG</td>\n",
              "      <td>2007</td>\n",
              "      <td>12.599.967</td>\n",
              "      <td>461.202</td>\n",
              "      <td>NaN</td>\n",
              "      <td>NaN</td>\n",
              "      <td>8.680.571</td>\n",
              "    </tr>\n",
              "    <tr>\n",
              "      <th>3</th>\n",
              "      <td>Afghanistan</td>\n",
              "      <td>AFG</td>\n",
              "      <td>2008</td>\n",
              "      <td>13.196.074</td>\n",
              "      <td>511.368</td>\n",
              "      <td>NaN</td>\n",
              "      <td>NaN</td>\n",
              "      <td>26.418.665</td>\n",
              "    </tr>\n",
              "    <tr>\n",
              "      <th>4</th>\n",
              "      <td>Afghanistan</td>\n",
              "      <td>AFG</td>\n",
              "      <td>2009</td>\n",
              "      <td>15.573.207</td>\n",
              "      <td>393.394</td>\n",
              "      <td>NaN</td>\n",
              "      <td>NaN</td>\n",
              "      <td>-6.811.161</td>\n",
              "    </tr>\n",
              "  </tbody>\n",
              "</table>\n",
              "</div>\n",
              "    <div class=\"colab-df-buttons\">\n",
              "\n",
              "  <div class=\"colab-df-container\">\n",
              "    <button class=\"colab-df-convert\" onclick=\"convertToInteractive('df-ffe5f165-55b2-49bc-9882-55cbbcb8bc4e')\"\n",
              "            title=\"Convert this dataframe to an interactive table.\"\n",
              "            style=\"display:none;\">\n",
              "\n",
              "  <svg xmlns=\"http://www.w3.org/2000/svg\" height=\"24px\" viewBox=\"0 -960 960 960\">\n",
              "    <path d=\"M120-120v-720h720v720H120Zm60-500h600v-160H180v160Zm220 220h160v-160H400v160Zm0 220h160v-160H400v160ZM180-400h160v-160H180v160Zm440 0h160v-160H620v160ZM180-180h160v-160H180v160Zm440 0h160v-160H620v160Z\"/>\n",
              "  </svg>\n",
              "    </button>\n",
              "\n",
              "  <style>\n",
              "    .colab-df-container {\n",
              "      display:flex;\n",
              "      gap: 12px;\n",
              "    }\n",
              "\n",
              "    .colab-df-convert {\n",
              "      background-color: #E8F0FE;\n",
              "      border: none;\n",
              "      border-radius: 50%;\n",
              "      cursor: pointer;\n",
              "      display: none;\n",
              "      fill: #1967D2;\n",
              "      height: 32px;\n",
              "      padding: 0 0 0 0;\n",
              "      width: 32px;\n",
              "    }\n",
              "\n",
              "    .colab-df-convert:hover {\n",
              "      background-color: #E2EBFA;\n",
              "      box-shadow: 0px 1px 2px rgba(60, 64, 67, 0.3), 0px 1px 3px 1px rgba(60, 64, 67, 0.15);\n",
              "      fill: #174EA6;\n",
              "    }\n",
              "\n",
              "    .colab-df-buttons div {\n",
              "      margin-bottom: 4px;\n",
              "    }\n",
              "\n",
              "    [theme=dark] .colab-df-convert {\n",
              "      background-color: #3B4455;\n",
              "      fill: #D2E3FC;\n",
              "    }\n",
              "\n",
              "    [theme=dark] .colab-df-convert:hover {\n",
              "      background-color: #434B5C;\n",
              "      box-shadow: 0px 1px 3px 1px rgba(0, 0, 0, 0.15);\n",
              "      filter: drop-shadow(0px 1px 2px rgba(0, 0, 0, 0.3));\n",
              "      fill: #FFFFFF;\n",
              "    }\n",
              "  </style>\n",
              "\n",
              "    <script>\n",
              "      const buttonEl =\n",
              "        document.querySelector('#df-ffe5f165-55b2-49bc-9882-55cbbcb8bc4e button.colab-df-convert');\n",
              "      buttonEl.style.display =\n",
              "        google.colab.kernel.accessAllowed ? 'block' : 'none';\n",
              "\n",
              "      async function convertToInteractive(key) {\n",
              "        const element = document.querySelector('#df-ffe5f165-55b2-49bc-9882-55cbbcb8bc4e');\n",
              "        const dataTable =\n",
              "          await google.colab.kernel.invokeFunction('convertToInteractive',\n",
              "                                                    [key], {});\n",
              "        if (!dataTable) return;\n",
              "\n",
              "        const docLinkHtml = 'Like what you see? Visit the ' +\n",
              "          '<a target=\"_blank\" href=https://colab.research.google.com/notebooks/data_table.ipynb>data table notebook</a>'\n",
              "          + ' to learn more about interactive tables.';\n",
              "        element.innerHTML = '';\n",
              "        dataTable['output_type'] = 'display_data';\n",
              "        await google.colab.output.renderOutput(dataTable, element);\n",
              "        const docLink = document.createElement('div');\n",
              "        docLink.innerHTML = docLinkHtml;\n",
              "        element.appendChild(docLink);\n",
              "      }\n",
              "    </script>\n",
              "  </div>\n",
              "\n",
              "\n",
              "    <div id=\"df-f8b57626-41e3-41ba-aa2a-dc85a4c3c459\">\n",
              "      <button class=\"colab-df-quickchart\" onclick=\"quickchart('df-f8b57626-41e3-41ba-aa2a-dc85a4c3c459')\"\n",
              "                title=\"Suggest charts\"\n",
              "                style=\"display:none;\">\n",
              "\n",
              "<svg xmlns=\"http://www.w3.org/2000/svg\" height=\"24px\"viewBox=\"0 0 24 24\"\n",
              "     width=\"24px\">\n",
              "    <g>\n",
              "        <path d=\"M19 3H5c-1.1 0-2 .9-2 2v14c0 1.1.9 2 2 2h14c1.1 0 2-.9 2-2V5c0-1.1-.9-2-2-2zM9 17H7v-7h2v7zm4 0h-2V7h2v10zm4 0h-2v-4h2v4z\"/>\n",
              "    </g>\n",
              "</svg>\n",
              "      </button>\n",
              "\n",
              "<style>\n",
              "  .colab-df-quickchart {\n",
              "      --bg-color: #E8F0FE;\n",
              "      --fill-color: #1967D2;\n",
              "      --hover-bg-color: #E2EBFA;\n",
              "      --hover-fill-color: #174EA6;\n",
              "      --disabled-fill-color: #AAA;\n",
              "      --disabled-bg-color: #DDD;\n",
              "  }\n",
              "\n",
              "  [theme=dark] .colab-df-quickchart {\n",
              "      --bg-color: #3B4455;\n",
              "      --fill-color: #D2E3FC;\n",
              "      --hover-bg-color: #434B5C;\n",
              "      --hover-fill-color: #FFFFFF;\n",
              "      --disabled-bg-color: #3B4455;\n",
              "      --disabled-fill-color: #666;\n",
              "  }\n",
              "\n",
              "  .colab-df-quickchart {\n",
              "    background-color: var(--bg-color);\n",
              "    border: none;\n",
              "    border-radius: 50%;\n",
              "    cursor: pointer;\n",
              "    display: none;\n",
              "    fill: var(--fill-color);\n",
              "    height: 32px;\n",
              "    padding: 0;\n",
              "    width: 32px;\n",
              "  }\n",
              "\n",
              "  .colab-df-quickchart:hover {\n",
              "    background-color: var(--hover-bg-color);\n",
              "    box-shadow: 0 1px 2px rgba(60, 64, 67, 0.3), 0 1px 3px 1px rgba(60, 64, 67, 0.15);\n",
              "    fill: var(--button-hover-fill-color);\n",
              "  }\n",
              "\n",
              "  .colab-df-quickchart-complete:disabled,\n",
              "  .colab-df-quickchart-complete:disabled:hover {\n",
              "    background-color: var(--disabled-bg-color);\n",
              "    fill: var(--disabled-fill-color);\n",
              "    box-shadow: none;\n",
              "  }\n",
              "\n",
              "  .colab-df-spinner {\n",
              "    border: 2px solid var(--fill-color);\n",
              "    border-color: transparent;\n",
              "    border-bottom-color: var(--fill-color);\n",
              "    animation:\n",
              "      spin 1s steps(1) infinite;\n",
              "  }\n",
              "\n",
              "  @keyframes spin {\n",
              "    0% {\n",
              "      border-color: transparent;\n",
              "      border-bottom-color: var(--fill-color);\n",
              "      border-left-color: var(--fill-color);\n",
              "    }\n",
              "    20% {\n",
              "      border-color: transparent;\n",
              "      border-left-color: var(--fill-color);\n",
              "      border-top-color: var(--fill-color);\n",
              "    }\n",
              "    30% {\n",
              "      border-color: transparent;\n",
              "      border-left-color: var(--fill-color);\n",
              "      border-top-color: var(--fill-color);\n",
              "      border-right-color: var(--fill-color);\n",
              "    }\n",
              "    40% {\n",
              "      border-color: transparent;\n",
              "      border-right-color: var(--fill-color);\n",
              "      border-top-color: var(--fill-color);\n",
              "    }\n",
              "    60% {\n",
              "      border-color: transparent;\n",
              "      border-right-color: var(--fill-color);\n",
              "    }\n",
              "    80% {\n",
              "      border-color: transparent;\n",
              "      border-right-color: var(--fill-color);\n",
              "      border-bottom-color: var(--fill-color);\n",
              "    }\n",
              "    90% {\n",
              "      border-color: transparent;\n",
              "      border-bottom-color: var(--fill-color);\n",
              "    }\n",
              "  }\n",
              "</style>\n",
              "\n",
              "      <script>\n",
              "        async function quickchart(key) {\n",
              "          const quickchartButtonEl =\n",
              "            document.querySelector('#' + key + ' button');\n",
              "          quickchartButtonEl.disabled = true;  // To prevent multiple clicks.\n",
              "          quickchartButtonEl.classList.add('colab-df-spinner');\n",
              "          try {\n",
              "            const charts = await google.colab.kernel.invokeFunction(\n",
              "                'suggestCharts', [key], {});\n",
              "          } catch (error) {\n",
              "            console.error('Error during call to suggestCharts:', error);\n",
              "          }\n",
              "          quickchartButtonEl.classList.remove('colab-df-spinner');\n",
              "          quickchartButtonEl.classList.add('colab-df-quickchart-complete');\n",
              "        }\n",
              "        (() => {\n",
              "          let quickchartButtonEl =\n",
              "            document.querySelector('#df-f8b57626-41e3-41ba-aa2a-dc85a4c3c459 button');\n",
              "          quickchartButtonEl.style.display =\n",
              "            google.colab.kernel.accessAllowed ? 'block' : 'none';\n",
              "        })();\n",
              "      </script>\n",
              "    </div>\n",
              "\n",
              "    </div>\n",
              "  </div>\n"
            ],
            "application/vnd.google.colaboratory.intrinsic+json": {
              "type": "dataframe",
              "variable_name": "data_ratil"
            }
          },
          "metadata": {},
          "execution_count": 3
        }
      ]
    },
    {
      "cell_type": "code",
      "source": [
        "# Melihat tipe masing-masing data\n",
        "data_ratil.info()"
      ],
      "metadata": {
        "colab": {
          "base_uri": "https://localhost:8080/"
        },
        "id": "hnoa1CpGcgrh",
        "outputId": "574e02c4-00d7-4a28-e896-e296a260935c"
      },
      "execution_count": 4,
      "outputs": [
        {
          "output_type": "stream",
          "name": "stdout",
          "text": [
            "<class 'pandas.core.frame.DataFrame'>\n",
            "RangeIndex: 101881 entries, 0 to 101880\n",
            "Data columns (total 8 columns):\n",
            " #   Column                                                 Non-Null Count   Dtype \n",
            "---  ------                                                 --------------   ----- \n",
            " 0   Entity                                                 101881 non-null  object\n",
            " 1   Code                                                   6769 non-null    object\n",
            " 2   Year                                                   101881 non-null  int64 \n",
            " 3   GDP per capita                                         101880 non-null  object\n",
            " 4   Value of global merchandise exports as a share of GDP  94973 non-null   object\n",
            " 5   Government expenditure (% of GDP)                      4873 non-null    object\n",
            " 6   Trade as a Share of GDP                                99695 non-null   object\n",
            " 7   Inflation, consumer prices (annual %)                  99722 non-null   object\n",
            "dtypes: int64(1), object(7)\n",
            "memory usage: 6.2+ MB\n"
          ]
        }
      ]
    },
    {
      "cell_type": "markdown",
      "source": [
        "Data pada kolom \"GDP per capita\", \"Value of global merchandise exports as a share of GDP\", \"Government expenditure (% of GDP)\"\n",
        "\"Trade as a Share of GDP\", dan \"Inflation, consumer prices (annual %)\" memiliki tipe object dimana seharusnya numerik (int atau float).\n",
        "Untuk itu, perlu dilakukan pengubahan ke dalam bentuk numerik (int atau float) agar dapat dianalisis lebih lanjut."
      ],
      "metadata": {
        "id": "fp0ByRe4kY2t"
      }
    },
    {
      "cell_type": "code",
      "source": [
        "# Mengubah tipe data object ke dalam numerik\n",
        "data_ratil['GDP per capita'] = pd.to_numeric(data_ratil['GDP per capita'], errors='coerce')\n",
        "data_ratil['Value of global merchandise exports as a share of GDP'] = pd.to_numeric(data_ratil['Value of global merchandise exports as a share of GDP'], errors='coerce')\n",
        "data_ratil['Government expenditure (% of GDP)'] = pd.to_numeric(data_ratil['Government expenditure (% of GDP)'], errors='coerce')\n",
        "data_ratil['Trade as a Share of GDP'] = pd.to_numeric(data_ratil['Trade as a Share of GDP'], errors='coerce')\n",
        "data_ratil['Inflation, consumer prices (annual %)'] = pd.to_numeric(data_ratil['Inflation, consumer prices (annual %)'], errors='coerce')"
      ],
      "metadata": {
        "id": "yTr-cElFqiqB"
      },
      "execution_count": 5,
      "outputs": []
    },
    {
      "cell_type": "code",
      "source": [
        "# Memeriksa kembali tipe data\n",
        "data_ratil.info()"
      ],
      "metadata": {
        "colab": {
          "base_uri": "https://localhost:8080/"
        },
        "id": "KaADUqN80GCl",
        "outputId": "d60bc779-4380-4af4-e111-3045d67f6528"
      },
      "execution_count": 6,
      "outputs": [
        {
          "output_type": "stream",
          "name": "stdout",
          "text": [
            "<class 'pandas.core.frame.DataFrame'>\n",
            "RangeIndex: 101881 entries, 0 to 101880\n",
            "Data columns (total 8 columns):\n",
            " #   Column                                                 Non-Null Count   Dtype  \n",
            "---  ------                                                 --------------   -----  \n",
            " 0   Entity                                                 101881 non-null  object \n",
            " 1   Code                                                   6769 non-null    object \n",
            " 2   Year                                                   101881 non-null  int64  \n",
            " 3   GDP per capita                                         33734 non-null   float64\n",
            " 4   Value of global merchandise exports as a share of GDP  16186 non-null   float64\n",
            " 5   Government expenditure (% of GDP)                      2614 non-null    float64\n",
            " 6   Trade as a Share of GDP                                2944 non-null    float64\n",
            " 7   Inflation, consumer prices (annual %)                  5309 non-null    float64\n",
            "dtypes: float64(5), int64(1), object(2)\n",
            "memory usage: 6.2+ MB\n"
          ]
        }
      ]
    },
    {
      "cell_type": "code",
      "source": [
        "# Menghapus kolom yang tidak diperlukan\n",
        "data_ratil.drop(columns=['Entity', 'Code', 'Year'], inplace=True)"
      ],
      "metadata": {
        "id": "F8rKV9j6AkTm"
      },
      "execution_count": 7,
      "outputs": []
    },
    {
      "cell_type": "code",
      "source": [
        "# Menampilkan data setelah penghapusan kolom\n",
        "data_ratil.info()"
      ],
      "metadata": {
        "colab": {
          "base_uri": "https://localhost:8080/"
        },
        "id": "s5-zHucZ3vC7",
        "outputId": "153042f2-3580-4f44-b99a-06d3673ea958"
      },
      "execution_count": 8,
      "outputs": [
        {
          "output_type": "stream",
          "name": "stdout",
          "text": [
            "<class 'pandas.core.frame.DataFrame'>\n",
            "RangeIndex: 101881 entries, 0 to 101880\n",
            "Data columns (total 5 columns):\n",
            " #   Column                                                 Non-Null Count  Dtype  \n",
            "---  ------                                                 --------------  -----  \n",
            " 0   GDP per capita                                         33734 non-null  float64\n",
            " 1   Value of global merchandise exports as a share of GDP  16186 non-null  float64\n",
            " 2   Government expenditure (% of GDP)                      2614 non-null   float64\n",
            " 3   Trade as a Share of GDP                                2944 non-null   float64\n",
            " 4   Inflation, consumer prices (annual %)                  5309 non-null   float64\n",
            "dtypes: float64(5)\n",
            "memory usage: 3.9 MB\n"
          ]
        }
      ]
    },
    {
      "cell_type": "code",
      "source": [
        "# Melihat summary statistik\n",
        "data_ratil.describe()"
      ],
      "metadata": {
        "colab": {
          "base_uri": "https://localhost:8080/",
          "height": 318
        },
        "id": "_s8eDsSRjYsg",
        "outputId": "4c398d3f-3cec-4389-e682-e5cddd02ea0c"
      },
      "execution_count": 9,
      "outputs": [
        {
          "output_type": "execute_result",
          "data": {
            "text/plain": [
              "       GDP per capita  Value of global merchandise exports as a share of GDP  \\\n",
              "count    33734.000000                                       16186.000000       \n",
              "mean      3527.986264                                         513.912969       \n",
              "std       5140.953679                                         343.948404       \n",
              "min        521.000000                                           0.647750       \n",
              "25%       1328.000000                                         173.535000       \n",
              "50%       1484.000000                                         530.313000       \n",
              "75%       3668.000000                                         889.708000       \n",
              "max      80657.130000                                         999.319000       \n",
              "\n",
              "       Government expenditure (% of GDP)  Trade as a Share of GDP  \\\n",
              "count                        2614.000000              2944.000000   \n",
              "mean                          277.741843               490.840701   \n",
              "std                           251.669144               224.756161   \n",
              "min                             0.684444                 0.000000   \n",
              "25%                           106.674500               351.942750   \n",
              "50%                           186.543000               523.005000   \n",
              "75%                           461.599750               603.222000   \n",
              "max                           997.214000               997.122000   \n",
              "\n",
              "       Inflation, consumer prices (annual %)  \n",
              "count                            5309.000000  \n",
              "mean                              307.171849  \n",
              "std                               483.959031  \n",
              "min                              -897.474000  \n",
              "25%                                 0.620491  \n",
              "50%                               188.572000  \n",
              "75%                               502.932000  \n",
              "max                             23773.130000  "
            ],
            "text/html": [
              "\n",
              "  <div id=\"df-9294d913-f13f-405a-9711-be8b47e69700\" class=\"colab-df-container\">\n",
              "    <div>\n",
              "<style scoped>\n",
              "    .dataframe tbody tr th:only-of-type {\n",
              "        vertical-align: middle;\n",
              "    }\n",
              "\n",
              "    .dataframe tbody tr th {\n",
              "        vertical-align: top;\n",
              "    }\n",
              "\n",
              "    .dataframe thead th {\n",
              "        text-align: right;\n",
              "    }\n",
              "</style>\n",
              "<table border=\"1\" class=\"dataframe\">\n",
              "  <thead>\n",
              "    <tr style=\"text-align: right;\">\n",
              "      <th></th>\n",
              "      <th>GDP per capita</th>\n",
              "      <th>Value of global merchandise exports as a share of GDP</th>\n",
              "      <th>Government expenditure (% of GDP)</th>\n",
              "      <th>Trade as a Share of GDP</th>\n",
              "      <th>Inflation, consumer prices (annual %)</th>\n",
              "    </tr>\n",
              "  </thead>\n",
              "  <tbody>\n",
              "    <tr>\n",
              "      <th>count</th>\n",
              "      <td>33734.000000</td>\n",
              "      <td>16186.000000</td>\n",
              "      <td>2614.000000</td>\n",
              "      <td>2944.000000</td>\n",
              "      <td>5309.000000</td>\n",
              "    </tr>\n",
              "    <tr>\n",
              "      <th>mean</th>\n",
              "      <td>3527.986264</td>\n",
              "      <td>513.912969</td>\n",
              "      <td>277.741843</td>\n",
              "      <td>490.840701</td>\n",
              "      <td>307.171849</td>\n",
              "    </tr>\n",
              "    <tr>\n",
              "      <th>std</th>\n",
              "      <td>5140.953679</td>\n",
              "      <td>343.948404</td>\n",
              "      <td>251.669144</td>\n",
              "      <td>224.756161</td>\n",
              "      <td>483.959031</td>\n",
              "    </tr>\n",
              "    <tr>\n",
              "      <th>min</th>\n",
              "      <td>521.000000</td>\n",
              "      <td>0.647750</td>\n",
              "      <td>0.684444</td>\n",
              "      <td>0.000000</td>\n",
              "      <td>-897.474000</td>\n",
              "    </tr>\n",
              "    <tr>\n",
              "      <th>25%</th>\n",
              "      <td>1328.000000</td>\n",
              "      <td>173.535000</td>\n",
              "      <td>106.674500</td>\n",
              "      <td>351.942750</td>\n",
              "      <td>0.620491</td>\n",
              "    </tr>\n",
              "    <tr>\n",
              "      <th>50%</th>\n",
              "      <td>1484.000000</td>\n",
              "      <td>530.313000</td>\n",
              "      <td>186.543000</td>\n",
              "      <td>523.005000</td>\n",
              "      <td>188.572000</td>\n",
              "    </tr>\n",
              "    <tr>\n",
              "      <th>75%</th>\n",
              "      <td>3668.000000</td>\n",
              "      <td>889.708000</td>\n",
              "      <td>461.599750</td>\n",
              "      <td>603.222000</td>\n",
              "      <td>502.932000</td>\n",
              "    </tr>\n",
              "    <tr>\n",
              "      <th>max</th>\n",
              "      <td>80657.130000</td>\n",
              "      <td>999.319000</td>\n",
              "      <td>997.214000</td>\n",
              "      <td>997.122000</td>\n",
              "      <td>23773.130000</td>\n",
              "    </tr>\n",
              "  </tbody>\n",
              "</table>\n",
              "</div>\n",
              "    <div class=\"colab-df-buttons\">\n",
              "\n",
              "  <div class=\"colab-df-container\">\n",
              "    <button class=\"colab-df-convert\" onclick=\"convertToInteractive('df-9294d913-f13f-405a-9711-be8b47e69700')\"\n",
              "            title=\"Convert this dataframe to an interactive table.\"\n",
              "            style=\"display:none;\">\n",
              "\n",
              "  <svg xmlns=\"http://www.w3.org/2000/svg\" height=\"24px\" viewBox=\"0 -960 960 960\">\n",
              "    <path d=\"M120-120v-720h720v720H120Zm60-500h600v-160H180v160Zm220 220h160v-160H400v160Zm0 220h160v-160H400v160ZM180-400h160v-160H180v160Zm440 0h160v-160H620v160ZM180-180h160v-160H180v160Zm440 0h160v-160H620v160Z\"/>\n",
              "  </svg>\n",
              "    </button>\n",
              "\n",
              "  <style>\n",
              "    .colab-df-container {\n",
              "      display:flex;\n",
              "      gap: 12px;\n",
              "    }\n",
              "\n",
              "    .colab-df-convert {\n",
              "      background-color: #E8F0FE;\n",
              "      border: none;\n",
              "      border-radius: 50%;\n",
              "      cursor: pointer;\n",
              "      display: none;\n",
              "      fill: #1967D2;\n",
              "      height: 32px;\n",
              "      padding: 0 0 0 0;\n",
              "      width: 32px;\n",
              "    }\n",
              "\n",
              "    .colab-df-convert:hover {\n",
              "      background-color: #E2EBFA;\n",
              "      box-shadow: 0px 1px 2px rgba(60, 64, 67, 0.3), 0px 1px 3px 1px rgba(60, 64, 67, 0.15);\n",
              "      fill: #174EA6;\n",
              "    }\n",
              "\n",
              "    .colab-df-buttons div {\n",
              "      margin-bottom: 4px;\n",
              "    }\n",
              "\n",
              "    [theme=dark] .colab-df-convert {\n",
              "      background-color: #3B4455;\n",
              "      fill: #D2E3FC;\n",
              "    }\n",
              "\n",
              "    [theme=dark] .colab-df-convert:hover {\n",
              "      background-color: #434B5C;\n",
              "      box-shadow: 0px 1px 3px 1px rgba(0, 0, 0, 0.15);\n",
              "      filter: drop-shadow(0px 1px 2px rgba(0, 0, 0, 0.3));\n",
              "      fill: #FFFFFF;\n",
              "    }\n",
              "  </style>\n",
              "\n",
              "    <script>\n",
              "      const buttonEl =\n",
              "        document.querySelector('#df-9294d913-f13f-405a-9711-be8b47e69700 button.colab-df-convert');\n",
              "      buttonEl.style.display =\n",
              "        google.colab.kernel.accessAllowed ? 'block' : 'none';\n",
              "\n",
              "      async function convertToInteractive(key) {\n",
              "        const element = document.querySelector('#df-9294d913-f13f-405a-9711-be8b47e69700');\n",
              "        const dataTable =\n",
              "          await google.colab.kernel.invokeFunction('convertToInteractive',\n",
              "                                                    [key], {});\n",
              "        if (!dataTable) return;\n",
              "\n",
              "        const docLinkHtml = 'Like what you see? Visit the ' +\n",
              "          '<a target=\"_blank\" href=https://colab.research.google.com/notebooks/data_table.ipynb>data table notebook</a>'\n",
              "          + ' to learn more about interactive tables.';\n",
              "        element.innerHTML = '';\n",
              "        dataTable['output_type'] = 'display_data';\n",
              "        await google.colab.output.renderOutput(dataTable, element);\n",
              "        const docLink = document.createElement('div');\n",
              "        docLink.innerHTML = docLinkHtml;\n",
              "        element.appendChild(docLink);\n",
              "      }\n",
              "    </script>\n",
              "  </div>\n",
              "\n",
              "\n",
              "    <div id=\"df-0df6e176-12e4-4111-a977-8106d44cae21\">\n",
              "      <button class=\"colab-df-quickchart\" onclick=\"quickchart('df-0df6e176-12e4-4111-a977-8106d44cae21')\"\n",
              "                title=\"Suggest charts\"\n",
              "                style=\"display:none;\">\n",
              "\n",
              "<svg xmlns=\"http://www.w3.org/2000/svg\" height=\"24px\"viewBox=\"0 0 24 24\"\n",
              "     width=\"24px\">\n",
              "    <g>\n",
              "        <path d=\"M19 3H5c-1.1 0-2 .9-2 2v14c0 1.1.9 2 2 2h14c1.1 0 2-.9 2-2V5c0-1.1-.9-2-2-2zM9 17H7v-7h2v7zm4 0h-2V7h2v10zm4 0h-2v-4h2v4z\"/>\n",
              "    </g>\n",
              "</svg>\n",
              "      </button>\n",
              "\n",
              "<style>\n",
              "  .colab-df-quickchart {\n",
              "      --bg-color: #E8F0FE;\n",
              "      --fill-color: #1967D2;\n",
              "      --hover-bg-color: #E2EBFA;\n",
              "      --hover-fill-color: #174EA6;\n",
              "      --disabled-fill-color: #AAA;\n",
              "      --disabled-bg-color: #DDD;\n",
              "  }\n",
              "\n",
              "  [theme=dark] .colab-df-quickchart {\n",
              "      --bg-color: #3B4455;\n",
              "      --fill-color: #D2E3FC;\n",
              "      --hover-bg-color: #434B5C;\n",
              "      --hover-fill-color: #FFFFFF;\n",
              "      --disabled-bg-color: #3B4455;\n",
              "      --disabled-fill-color: #666;\n",
              "  }\n",
              "\n",
              "  .colab-df-quickchart {\n",
              "    background-color: var(--bg-color);\n",
              "    border: none;\n",
              "    border-radius: 50%;\n",
              "    cursor: pointer;\n",
              "    display: none;\n",
              "    fill: var(--fill-color);\n",
              "    height: 32px;\n",
              "    padding: 0;\n",
              "    width: 32px;\n",
              "  }\n",
              "\n",
              "  .colab-df-quickchart:hover {\n",
              "    background-color: var(--hover-bg-color);\n",
              "    box-shadow: 0 1px 2px rgba(60, 64, 67, 0.3), 0 1px 3px 1px rgba(60, 64, 67, 0.15);\n",
              "    fill: var(--button-hover-fill-color);\n",
              "  }\n",
              "\n",
              "  .colab-df-quickchart-complete:disabled,\n",
              "  .colab-df-quickchart-complete:disabled:hover {\n",
              "    background-color: var(--disabled-bg-color);\n",
              "    fill: var(--disabled-fill-color);\n",
              "    box-shadow: none;\n",
              "  }\n",
              "\n",
              "  .colab-df-spinner {\n",
              "    border: 2px solid var(--fill-color);\n",
              "    border-color: transparent;\n",
              "    border-bottom-color: var(--fill-color);\n",
              "    animation:\n",
              "      spin 1s steps(1) infinite;\n",
              "  }\n",
              "\n",
              "  @keyframes spin {\n",
              "    0% {\n",
              "      border-color: transparent;\n",
              "      border-bottom-color: var(--fill-color);\n",
              "      border-left-color: var(--fill-color);\n",
              "    }\n",
              "    20% {\n",
              "      border-color: transparent;\n",
              "      border-left-color: var(--fill-color);\n",
              "      border-top-color: var(--fill-color);\n",
              "    }\n",
              "    30% {\n",
              "      border-color: transparent;\n",
              "      border-left-color: var(--fill-color);\n",
              "      border-top-color: var(--fill-color);\n",
              "      border-right-color: var(--fill-color);\n",
              "    }\n",
              "    40% {\n",
              "      border-color: transparent;\n",
              "      border-right-color: var(--fill-color);\n",
              "      border-top-color: var(--fill-color);\n",
              "    }\n",
              "    60% {\n",
              "      border-color: transparent;\n",
              "      border-right-color: var(--fill-color);\n",
              "    }\n",
              "    80% {\n",
              "      border-color: transparent;\n",
              "      border-right-color: var(--fill-color);\n",
              "      border-bottom-color: var(--fill-color);\n",
              "    }\n",
              "    90% {\n",
              "      border-color: transparent;\n",
              "      border-bottom-color: var(--fill-color);\n",
              "    }\n",
              "  }\n",
              "</style>\n",
              "\n",
              "      <script>\n",
              "        async function quickchart(key) {\n",
              "          const quickchartButtonEl =\n",
              "            document.querySelector('#' + key + ' button');\n",
              "          quickchartButtonEl.disabled = true;  // To prevent multiple clicks.\n",
              "          quickchartButtonEl.classList.add('colab-df-spinner');\n",
              "          try {\n",
              "            const charts = await google.colab.kernel.invokeFunction(\n",
              "                'suggestCharts', [key], {});\n",
              "          } catch (error) {\n",
              "            console.error('Error during call to suggestCharts:', error);\n",
              "          }\n",
              "          quickchartButtonEl.classList.remove('colab-df-spinner');\n",
              "          quickchartButtonEl.classList.add('colab-df-quickchart-complete');\n",
              "        }\n",
              "        (() => {\n",
              "          let quickchartButtonEl =\n",
              "            document.querySelector('#df-0df6e176-12e4-4111-a977-8106d44cae21 button');\n",
              "          quickchartButtonEl.style.display =\n",
              "            google.colab.kernel.accessAllowed ? 'block' : 'none';\n",
              "        })();\n",
              "      </script>\n",
              "    </div>\n",
              "\n",
              "    </div>\n",
              "  </div>\n"
            ],
            "application/vnd.google.colaboratory.intrinsic+json": {
              "type": "dataframe",
              "summary": "{\n  \"name\": \"data_ratil\",\n  \"rows\": 8,\n  \"fields\": [\n    {\n      \"column\": \"GDP per capita\",\n      \"properties\": {\n        \"dtype\": \"number\",\n        \"std\": 28247.977761521655,\n        \"min\": 521.0,\n        \"max\": 80657.13,\n        \"num_unique_values\": 8,\n        \"samples\": [\n          3527.9862640362844,\n          1484.0,\n          33734.0\n        ],\n        \"semantic_type\": \"\",\n        \"description\": \"\"\n      }\n    },\n    {\n      \"column\": \"Value of global merchandise exports as a share of GDP\",\n      \"properties\": {\n        \"dtype\": \"number\",\n        \"std\": 5558.355507422181,\n        \"min\": 0.64775,\n        \"max\": 16186.0,\n        \"num_unique_values\": 8,\n        \"samples\": [\n          513.9129686710737,\n          530.313,\n          16186.0\n        ],\n        \"semantic_type\": \"\",\n        \"description\": \"\"\n      }\n    },\n    {\n      \"column\": \"Government expenditure (% of GDP)\",\n      \"properties\": {\n        \"dtype\": \"number\",\n        \"std\": 864.4283932004184,\n        \"min\": 0.684444,\n        \"max\": 2614.0,\n        \"num_unique_values\": 8,\n        \"samples\": [\n          277.74184307995404,\n          186.543,\n          2614.0\n        ],\n        \"semantic_type\": \"\",\n        \"description\": \"\"\n      }\n    },\n    {\n      \"column\": \"Trade as a Share of GDP\",\n      \"properties\": {\n        \"dtype\": \"number\",\n        \"std\": 926.552414184029,\n        \"min\": 0.0,\n        \"max\": 2944.0,\n        \"num_unique_values\": 8,\n        \"samples\": [\n          490.84070148327925,\n          523.005,\n          2944.0\n        ],\n        \"semantic_type\": \"\",\n        \"description\": \"\"\n      }\n    },\n    {\n      \"column\": \"Inflation, consumer prices (annual %)\",\n      \"properties\": {\n        \"dtype\": \"number\",\n        \"std\": 8321.629315118904,\n        \"min\": -897.474,\n        \"max\": 23773.13,\n        \"num_unique_values\": 8,\n        \"samples\": [\n          307.1718492822618,\n          188.572,\n          5309.0\n        ],\n        \"semantic_type\": \"\",\n        \"description\": \"\"\n      }\n    }\n  ]\n}"
            }
          },
          "metadata": {},
          "execution_count": 9
        }
      ]
    },
    {
      "cell_type": "markdown",
      "source": [
        "Observasi:\n",
        "1. Secara keseluruhan nilai minimum dan maksimum masuk akal untuk setiap kolom.\n",
        "2. Secara statistik, nilai mean yang tidak sama/mendekati median terdapat pada kolom \"GDP per capita\", \"Goverment expenditure (% of GDP), \"Inflation, consumer prices (annual %) yang menunjukkan bahwa data tidak berdistribusi normal.\n",
        "3. Nilai mean/median yang sama/mendekati diketahui terdapat pada kolom \"Value of global merchandise exports as a share of GDP\" dan \"Trade as a Share of GDP\" yang dapat menunjukkan data mendekati normal\n",
        "4. Untuk melihat bentuk penyebaran data lebih jelas, perlu dilakukan visualisasi melalui histogram"
      ],
      "metadata": {
        "id": "e3WEh3_6nv3P"
      }
    },
    {
      "cell_type": "code",
      "source": [
        "# Membuat visualisasi dalam bentuk histogram\n",
        "import seaborn as sns\n",
        "sns.histplot(data=data_ratil, x='GDP per capita', bins=30, kde=True, color='green')"
      ],
      "metadata": {
        "colab": {
          "base_uri": "https://localhost:8080/",
          "height": 466
        },
        "id": "0YaJBOpmrUVV",
        "outputId": "4a9397be-9092-42d4-ddaf-776964a504f9"
      },
      "execution_count": 30,
      "outputs": [
        {
          "output_type": "execute_result",
          "data": {
            "text/plain": [
              "<Axes: xlabel='GDP per capita', ylabel='Count'>"
            ]
          },
          "metadata": {},
          "execution_count": 30
        },
        {
          "output_type": "display_data",
          "data": {
            "text/plain": [
              "<Figure size 640x480 with 1 Axes>"
            ],
            "image/png": "[encoded data removed]"
          },
          "metadata": {}
        }
      ]
    },
    {
      "cell_type": "code",
      "source": [
        "sns.histplot(data=data_ratil, x='Value of global merchandise exports as a share of GDP', bins=30, kde=True, color='blue')\n"
      ],
      "metadata": {
        "colab": {
          "base_uri": "https://localhost:8080/",
          "height": 466
        },
        "id": "WXubfbt56_J7",
        "outputId": "4903ca80-e990-4124-9c58-11b0820c3d77"
      },
      "execution_count": 21,
      "outputs": [
        {
          "output_type": "execute_result",
          "data": {
            "text/plain": [
              "<Axes: xlabel='Value of global merchandise exports as a share of GDP', ylabel='Count'>"
            ]
          },
          "metadata": {},
          "execution_count": 21
        },
        {
          "output_type": "display_data",
          "data": {
            "text/plain": [
              "<Figure size 640x480 with 1 Axes>"
            ],
            "image/png": "[encoded data removed]"
          },
          "metadata": {}
        }
      ]
    },
    {
      "cell_type": "code",
      "source": [
        "sns.histplot(data=data_ratil, x='Government expenditure (% of GDP)', bins=30, kde=True, color='yellow')"
      ],
      "metadata": {
        "colab": {
          "base_uri": "https://localhost:8080/",
          "height": 466
        },
        "id": "Z8UAXNGI6vRv",
        "outputId": "989ba533-06b2-4a65-8065-105637951e98"
      },
      "execution_count": 22,
      "outputs": [
        {
          "output_type": "execute_result",
          "data": {
            "text/plain": [
              "<Axes: xlabel='Government expenditure (% of GDP)', ylabel='Count'>"
            ]
          },
          "metadata": {},
          "execution_count": 22
        },
        {
          "output_type": "display_data",
          "data": {
            "text/plain": [
              "<Figure size 640x480 with 1 Axes>"
            ],
            "image/png": "[encoded data removed]"
          },
          "metadata": {}
        }
      ]
    },
    {
      "cell_type": "code",
      "source": [
        "sns.histplot(data=data_ratil, x='Trade as a Share of GDP', bins=30, kde=True, color='grey')"
      ],
      "metadata": {
        "colab": {
          "base_uri": "https://localhost:8080/",
          "height": 466
        },
        "id": "GI7nbtwW7RZU",
        "outputId": "c4fb8b30-9702-4710-d8a8-b15e8ac8ffd5"
      },
      "execution_count": 23,
      "outputs": [
        {
          "output_type": "execute_result",
          "data": {
            "text/plain": [
              "<Axes: xlabel='Trade as a Share of GDP', ylabel='Count'>"
            ]
          },
          "metadata": {},
          "execution_count": 23
        },
        {
          "output_type": "display_data",
          "data": {
            "text/plain": [
              "<Figure size 640x480 with 1 Axes>"
            ],
            "image/png": "[encoded data removed]"
          },
          "metadata": {}
        }
      ]
    },
    {
      "cell_type": "code",
      "source": [
        "sns.histplot(data=data_ratil, x='Inflation, consumer prices (annual %)', bins=30, kde=True, color='purple')"
      ],
      "metadata": {
        "colab": {
          "base_uri": "https://localhost:8080/",
          "height": 466
        },
        "id": "HfGW_bHH7uLH",
        "outputId": "153a1cff-52d1-474d-88f9-234f0c863a87"
      },
      "execution_count": 26,
      "outputs": [
        {
          "output_type": "execute_result",
          "data": {
            "text/plain": [
              "<Axes: xlabel='Inflation, consumer prices (annual %)', ylabel='Count'>"
            ]
          },
          "metadata": {},
          "execution_count": 26
        },
        {
          "output_type": "display_data",
          "data": {
            "text/plain": [
              "<Figure size 640x480 with 1 Axes>"
            ],
            "image/png": "[encoded data removed]"
          },
          "metadata": {}
        }
      ]
    },
    {
      "cell_type": "markdown",
      "source": [
        "MENDETEKSI MISSING VALUE"
      ],
      "metadata": {
        "id": "6DhWAFXq86CW"
      }
    },
    {
      "cell_type": "code",
      "source": [
        "# Mendeteksi missing value setiap kolom\n",
        "data_ratil.isna().sum()"
      ],
      "metadata": {
        "id": "qZFJvAQ2pIp8",
        "colab": {
          "base_uri": "https://localhost:8080/",
          "height": 241
        },
        "outputId": "7570561b-6e63-4a6a-8e39-cca2983dc263"
      },
      "execution_count": 31,
      "outputs": [
        {
          "output_type": "execute_result",
          "data": {
            "text/plain": [
              "GDP per capita                                           104356\n",
              "Value of global merchandise exports as a share of GDP    126030\n",
              "Government expenditure (% of GDP)                        143234\n",
              "Trade as a Share of GDP                                  144069\n",
              "Inflation, consumer prices (annual %)                    139313\n",
              "dtype: int64"
            ],
            "text/html": [
              "<div>\n",
              "<style scoped>\n",
              "    .dataframe tbody tr th:only-of-type {\n",
              "        vertical-align: middle;\n",
              "    }\n",
              "\n",
              "    .dataframe tbody tr th {\n",
              "        vertical-align: top;\n",
              "    }\n",
              "\n",
              "    .dataframe thead th {\n",
              "        text-align: right;\n",
              "    }\n",
              "</style>\n",
              "<table border=\"1\" class=\"dataframe\">\n",
              "  <thead>\n",
              "    <tr style=\"text-align: right;\">\n",
              "      <th></th>\n",
              "      <th>0</th>\n",
              "    </tr>\n",
              "  </thead>\n",
              "  <tbody>\n",
              "    <tr>\n",
              "      <th>GDP per capita</th>\n",
              "      <td>104356</td>\n",
              "    </tr>\n",
              "    <tr>\n",
              "      <th>Value of global merchandise exports as a share of GDP</th>\n",
              "      <td>126030</td>\n",
              "    </tr>\n",
              "    <tr>\n",
              "      <th>Government expenditure (% of GDP)</th>\n",
              "      <td>143234</td>\n",
              "    </tr>\n",
              "    <tr>\n",
              "      <th>Trade as a Share of GDP</th>\n",
              "      <td>144069</td>\n",
              "    </tr>\n",
              "    <tr>\n",
              "      <th>Inflation, consumer prices (annual %)</th>\n",
              "      <td>139313</td>\n",
              "    </tr>\n",
              "  </tbody>\n",
              "</table>\n",
              "</div><br><label><b>dtype:</b> int64</label>"
            ]
          },
          "metadata": {},
          "execution_count": 31
        }
      ]
    },
    {
      "cell_type": "markdown",
      "source": [
        "Output di atas menunjukkan bahwa terdapat 5 kolom yang memiliki missing value.\n",
        "Diketahui untuk setiap kolom, persentase missing value lebih dari 70% dari keseluruhan data. Pada kasus ini, umumnya kolom akan dihapus untuk menangani missing value. Akan tetapi setiap kolom memiliki kontribusi penting dalam menggambarkan indikator mikroekonomi suatu negara, maka akan dipertahankan dan akan diisi sesuai dengan distribusi data setiap kolom.\n"
      ],
      "metadata": {
        "id": "L9S88yUa9RbH"
      }
    },
    {
      "cell_type": "code",
      "source": [
        "# Mengatasi missing value\n",
        "# Kolom \"GDP per capita\", \"Government expenditure (% of GDP)\", dan \"Inflation, consumer prices (annual %)\" akan diisi dengan nilai median\n",
        "# karena distribusi tidak normal\n",
        "# Adapun kolom \"Value of global merchandise exports as a share of GDP\" dan \"Trade as a Share of GDP\" akan diisi dengan nilai mean karena\n",
        "# distribusi mendekati normal\n",
        "\n",
        "# Kolom yang akan diisi dengan **median** (karena distribusinya skewed)\n",
        "median_cols = [\n",
        "    'GDP per capita',\n",
        "    'Government expenditure (% of GDP)',\n",
        "    'Inflation, consumer prices (annual %)'\n",
        "]\n",
        "\n",
        "# Kolom yang akan diisi dengan **mean** (karena distribusinya mendekati normal)\n",
        "mean_cols = [\n",
        "    'Value of global merchandise exports as a share of GDP',\n",
        "    'Trade as a Share of GDP'\n",
        "]\n",
        "\n",
        "# Isi missing value\n",
        "for col in data_ratil.columns:\n",
        "    if data_ratil[col].dtype == 'object':\n",
        "        # Jika kolom bertipe objek (kategori), isi dengan modus\n",
        "        data_ratil[col].fillna(data_ratil[col].mode()[0], inplace=True)\n",
        "    elif col in median_cols:\n",
        "        data_ratil[col].fillna(data_ratil[col].median(), inplace=True)\n",
        "    elif col in mean_cols:\n",
        "        data_ratil[col].fillna(data_ratil[col].mean(), inplace=True)\n"
      ],
      "metadata": {
        "colab": {
          "base_uri": "https://localhost:8080/"
        },
        "id": "1nQPRg4p9GJj",
        "outputId": "e70a5c59-85db-4772-c89a-0c0a676c0666"
      },
      "execution_count": 33,
      "outputs": [
        {
          "output_type": "stream",
          "name": "stderr",
          "text": [
            "<ipython-input-33-71890c8475b4>:26: FutureWarning: A value is trying to be set on a copy of a DataFrame or Series through chained assignment using an inplace method.\n",
            "The behavior will change in pandas 3.0. This inplace method will never work because the intermediate object on which we are setting values always behaves as a copy.\n",
            "\n",
            "For example, when doing 'df[col].method(value, inplace=True)', try using 'df.method({col: value}, inplace=True)' or df[col] = df[col].method(value) instead, to perform the operation inplace on the original object.\n",
            "\n",
            "\n",
            "  data_ratil[col].fillna(data_ratil[col].median(), inplace=True)\n",
            "<ipython-input-33-71890c8475b4>:28: FutureWarning: A value is trying to be set on a copy of a DataFrame or Series through chained assignment using an inplace method.\n",
            "The behavior will change in pandas 3.0. This inplace method will never work because the intermediate object on which we are setting values always behaves as a copy.\n",
            "\n",
            "For example, when doing 'df[col].method(value, inplace=True)', try using 'df.method({col: value}, inplace=True)' or df[col] = df[col].method(value) instead, to perform the operation inplace on the original object.\n",
            "\n",
            "\n",
            "  data_ratil[col].fillna(data_ratil[col].mean(), inplace=True)\n"
          ]
        }
      ]
    },
    {
      "cell_type": "code",
      "source": [
        "data_ratil.isna().sum()"
      ],
      "metadata": {
        "colab": {
          "base_uri": "https://localhost:8080/",
          "height": 241
        },
        "id": "-k9HoDZBDiw5",
        "outputId": "a01fc33f-9041-48c1-b847-627c44e8fc7d"
      },
      "execution_count": 36,
      "outputs": [
        {
          "output_type": "execute_result",
          "data": {
            "text/plain": [
              "GDP per capita                                           0\n",
              "Value of global merchandise exports as a share of GDP    0\n",
              "Government expenditure (% of GDP)                        0\n",
              "Trade as a Share of GDP                                  0\n",
              "Inflation, consumer prices (annual %)                    0\n",
              "dtype: int64"
            ],
            "text/html": [
              "<div>\n",
              "<style scoped>\n",
              "    .dataframe tbody tr th:only-of-type {\n",
              "        vertical-align: middle;\n",
              "    }\n",
              "\n",
              "    .dataframe tbody tr th {\n",
              "        vertical-align: top;\n",
              "    }\n",
              "\n",
              "    .dataframe thead th {\n",
              "        text-align: right;\n",
              "    }\n",
              "</style>\n",
              "<table border=\"1\" class=\"dataframe\">\n",
              "  <thead>\n",
              "    <tr style=\"text-align: right;\">\n",
              "      <th></th>\n",
              "      <th>0</th>\n",
              "    </tr>\n",
              "  </thead>\n",
              "  <tbody>\n",
              "    <tr>\n",
              "      <th>GDP per capita</th>\n",
              "      <td>0</td>\n",
              "    </tr>\n",
              "    <tr>\n",
              "      <th>Value of global merchandise exports as a share of GDP</th>\n",
              "      <td>0</td>\n",
              "    </tr>\n",
              "    <tr>\n",
              "      <th>Government expenditure (% of GDP)</th>\n",
              "      <td>0</td>\n",
              "    </tr>\n",
              "    <tr>\n",
              "      <th>Trade as a Share of GDP</th>\n",
              "      <td>0</td>\n",
              "    </tr>\n",
              "    <tr>\n",
              "      <th>Inflation, consumer prices (annual %)</th>\n",
              "      <td>0</td>\n",
              "    </tr>\n",
              "  </tbody>\n",
              "</table>\n",
              "</div><br><label><b>dtype:</b> int64</label>"
            ]
          },
          "metadata": {},
          "execution_count": 36
        }
      ]
    },
    {
      "cell_type": "markdown",
      "source": [
        "Berdasarkan output di atas diketahui bahwa tidak terdapat lagi missing value setelah diinput dengan mean/median"
      ],
      "metadata": {
        "id": "uHSC-sJ4D3XG"
      }
    },
    {
      "cell_type": "markdown",
      "source": [
        "MENDETEKSI DATA DUPLIKAT"
      ],
      "metadata": {
        "id": "4dzPPvt6EDVt"
      }
    },
    {
      "cell_type": "code",
      "source": [
        "# Mengecek apakah terdapat data duplicate\n",
        "check_duplicate = data_ratil.duplicated().sum()\n",
        "\n",
        "print(f\"Jumlah data yang duplikat = {check_duplicate}\")"
      ],
      "metadata": {
        "colab": {
          "base_uri": "https://localhost:8080/"
        },
        "id": "9chAfxShaceR",
        "outputId": "7675f2b8-9825-4c24-8525-c921b8e7273e"
      },
      "execution_count": 37,
      "outputs": [
        {
          "output_type": "stream",
          "name": "stdout",
          "text": [
            "Jumlah data yang duplikat = 138655\n"
          ]
        }
      ]
    },
    {
      "cell_type": "code",
      "source": [
        "# Mengatasi data duplicate\n",
        "data_bersih = data_ratil.drop_duplicates()"
      ],
      "metadata": {
        "id": "_Uk0mMTMES3c"
      },
      "execution_count": 41,
      "outputs": []
    },
    {
      "cell_type": "code",
      "source": [
        "# Mengecek duplicate setelah di-handle\n",
        "handle_duplicate = data_bersih.duplicated().sum()\n",
        "\n",
        "print(f\"Jumlah data yang duplikat = {handle_duplicate}\")"
      ],
      "metadata": {
        "colab": {
          "base_uri": "https://localhost:8080/"
        },
        "id": "eEiQxOL2Ecw2",
        "outputId": "7b854f2d-231c-4097-94e7-7276c959e542"
      },
      "execution_count": 42,
      "outputs": [
        {
          "output_type": "stream",
          "name": "stdout",
          "text": [
            "Jumlah data yang duplikat = 0\n"
          ]
        }
      ]
    },
    {
      "cell_type": "markdown",
      "source": [
        "Ini menunjukkan bahwa data sudah bersih dari data duplikat setelah menghapus semua baris yang mengandung data duplikat"
      ],
      "metadata": {
        "id": "t13GosQREzyb"
      }
    }
  ]
}